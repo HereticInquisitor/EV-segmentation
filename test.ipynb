{
 "cells": [
  {
   "cell_type": "code",
   "execution_count": 1,
   "metadata": {},
   "outputs": [],
   "source": [
    "import pandas as pd\n",
    "import numpy as np\n"
   ]
  },
  {
   "cell_type": "code",
   "execution_count": 4,
   "metadata": {},
   "outputs": [],
   "source": [
    "df= pd.read_csv('Datasets/2_ev_charging_station_dataset.csv')"
   ]
  },
  {
   "cell_type": "code",
   "execution_count": 5,
   "metadata": {},
   "outputs": [
    {
     "data": {
      "text/html": [
       "<div>\n",
       "<style scoped>\n",
       "    .dataframe tbody tr th:only-of-type {\n",
       "        vertical-align: middle;\n",
       "    }\n",
       "\n",
       "    .dataframe tbody tr th {\n",
       "        vertical-align: top;\n",
       "    }\n",
       "\n",
       "    .dataframe thead th {\n",
       "        text-align: right;\n",
       "    }\n",
       "</style>\n",
       "<table border=\"1\" class=\"dataframe\">\n",
       "  <thead>\n",
       "    <tr style=\"text-align: right;\">\n",
       "      <th></th>\n",
       "      <th>The number of electric vehicles currently being used on the roads of India, State wise as on\\n\\n14-07-2022</th>\n",
       "      <th>Unnamed: 1</th>\n",
       "      <th>Unnamed: 2</th>\n",
       "      <th>Unnamed: 3</th>\n",
       "      <th>Unnamed: 4</th>\n",
       "    </tr>\n",
       "  </thead>\n",
       "  <tbody>\n",
       "    <tr>\n",
       "      <th>0</th>\n",
       "      <td>Sr. No.</td>\n",
       "      <td>State Name</td>\n",
       "      <td>Total Electric Vehicle</td>\n",
       "      <td>Total Non-Electric Vehicle</td>\n",
       "      <td>Total</td>\n",
       "    </tr>\n",
       "    <tr>\n",
       "      <th>1</th>\n",
       "      <td>1</td>\n",
       "      <td>Andaman &amp; Nicobar Island</td>\n",
       "      <td>162</td>\n",
       "      <td>146945</td>\n",
       "      <td>147107</td>\n",
       "    </tr>\n",
       "    <tr>\n",
       "      <th>2</th>\n",
       "      <td>2</td>\n",
       "      <td>Arunachal Pradesh</td>\n",
       "      <td>20</td>\n",
       "      <td>252965</td>\n",
       "      <td>252985</td>\n",
       "    </tr>\n",
       "    <tr>\n",
       "      <th>3</th>\n",
       "      <td>3</td>\n",
       "      <td>Assam</td>\n",
       "      <td>64766</td>\n",
       "      <td>4677053</td>\n",
       "      <td>4741819</td>\n",
       "    </tr>\n",
       "    <tr>\n",
       "      <th>4</th>\n",
       "      <td>4</td>\n",
       "      <td>Bihar</td>\n",
       "      <td>83335</td>\n",
       "      <td>10407078</td>\n",
       "      <td>10490413</td>\n",
       "    </tr>\n",
       "  </tbody>\n",
       "</table>\n",
       "</div>"
      ],
      "text/plain": [
       "  The number of electric vehicles currently being used on the roads of India, State wise as on\\n\\n14-07-2022  \\\n",
       "0                                            Sr. No.                                                           \n",
       "1                                                  1                                                           \n",
       "2                                                  2                                                           \n",
       "3                                                  3                                                           \n",
       "4                                                  4                                                           \n",
       "\n",
       "                 Unnamed: 1              Unnamed: 2  \\\n",
       "0                State Name  Total Electric Vehicle   \n",
       "1  Andaman & Nicobar Island                     162   \n",
       "2         Arunachal Pradesh                      20   \n",
       "3                     Assam                   64766   \n",
       "4                     Bihar                   83335   \n",
       "\n",
       "                   Unnamed: 3 Unnamed: 4  \n",
       "0  Total Non-Electric Vehicle      Total  \n",
       "1                      146945     147107  \n",
       "2                      252965     252985  \n",
       "3                     4677053    4741819  \n",
       "4                    10407078   10490413  "
      ]
     },
     "execution_count": 5,
     "metadata": {},
     "output_type": "execute_result"
    }
   ],
   "source": [
    "df.head()"
   ]
  }
 ],
 "metadata": {
  "kernelspec": {
   "display_name": "Python 3",
   "language": "python",
   "name": "python3"
  },
  "language_info": {
   "codemirror_mode": {
    "name": "ipython",
    "version": 3
   },
   "file_extension": ".py",
   "mimetype": "text/x-python",
   "name": "python",
   "nbconvert_exporter": "python",
   "pygments_lexer": "ipython3",
   "version": "3.10.10"
  }
 },
 "nbformat": 4,
 "nbformat_minor": 2
}
